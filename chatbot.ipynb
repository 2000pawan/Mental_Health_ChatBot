{
 "cells": [
  {
   "cell_type": "code",
   "execution_count": 1,
   "id": "570156f5-03a9-4b36-8765-57fc1e7f0383",
   "metadata": {},
   "outputs": [],
   "source": [
    "import pandas as pd\n",
    "import re\n",
    "from nltk.corpus import stopwords\n",
    "from nltk.tokenize import word_tokenize\n",
    "from nltk.stem import WordNetLemmatizer\n",
    "from sklearn.model_selection import train_test_split\n",
    "from sklearn.feature_extraction.text import TfidfVectorizer\n",
    "from sklearn.linear_model import LogisticRegression\n",
    "from sklearn.metrics import classification_report,accuracy_score\n",
    "import joblib"
   ]
  },
  {
   "cell_type": "code",
   "execution_count": 3,
   "id": "b592101c-dab5-4c76-a185-8b58aed71f1d",
   "metadata": {},
   "outputs": [],
   "source": [
    "#Load Dataset\n",
    "df=pd.read_csv(\"data_to_be_cleansed.csv\")\n",
    "#Remove redundant columns\n",
    "df=df.iloc[::,1:]\n",
    "#Drop rows with missing 'text' values\n",
    "df=df.dropna(subset=['text'])\n",
    "#Remove Duplicates\n",
    "df=df.drop_duplicates(subset=['text','title'])\n",
    "# Combine 'text' and 'title' columns\n",
    "df['input'] = df['text'] + \" \" + df['title']"
   ]
  },
  {
   "cell_type": "code",
   "execution_count": 4,
   "id": "d1388d07-317e-4b27-9141-7ef0d60f060c",
   "metadata": {},
   "outputs": [],
   "source": [
    "def preprocess_text(text):\n",
    "    # Convert to lowercase\n",
    "    text = text.lower()\n",
    "    # Remove special characters and numbers\n",
    "    text = re.sub(r'[^a-z\\s]', '', text)\n",
    "    # Tokenize and remove stopwords\n",
    "    stop_words = set(stopwords.words('english'))\n",
    "    tokens = word_tokenize(text)\n",
    "    tokens = [word for word in tokens if word not in stop_words]\n",
    "    # Lemmatize tokens\n",
    "    lemmatizer = WordNetLemmatizer()\n",
    "    tokens = [lemmatizer.lemmatize(word) for word in tokens]\n",
    "    return ' '.join(tokens)\n",
    "\n",
    "# Apply preprocessing to 'text' and 'title' columns\n",
    "df['input_text'] = df['input'].apply(preprocess_text)\n",
    "# Drop the original 'text' and 'title' columns if not needed\n",
    "df.drop(columns=['text', 'title', 'input'], inplace=True)\n",
    "# Save the cleaned dataset\n",
    "df.to_csv('clean.csv', index=False)"
   ]
  },
  {
   "cell_type": "code",
   "execution_count": 19,
   "id": "5e84e5c9-ce8b-4afb-91d5-654b9992b378",
   "metadata": {},
   "outputs": [],
   "source": [
    "# Load the cleaned dataset\n",
    "df1=pd.read_csv('clean.csv')\n",
    "# Initialize TF-IDF vectorizer\n",
    "vz=TfidfVectorizer(max_features=5000)  # Adjust max_features as needed\n",
    "# Extract features from processed text\n",
    "vz.fit(df1['input_text'])\n",
    "# Target column\n",
    "y=df1['target']"
   ]
  },
  {
   "cell_type": "code",
   "execution_count": 20,
   "id": "40af800e-582f-4206-b168-5cdfd4e30667",
   "metadata": {},
   "outputs": [
    {
     "name": "stdout",
     "output_type": "stream",
     "text": [
      "Accuracy: 0.7392776523702032\n",
      "Accuracy: 0.90770533446232\n",
      "              precision    recall  f1-score   support\n",
      "\n",
      "           0       0.87      0.73      0.79       182\n",
      "           1       0.67      0.77      0.72       199\n",
      "           2       0.84      0.68      0.75       164\n",
      "           3       0.64      0.76      0.70       160\n",
      "           4       0.74      0.75      0.74       181\n",
      "\n",
      "    accuracy                           0.74       886\n",
      "   macro avg       0.75      0.74      0.74       886\n",
      "weighted avg       0.75      0.74      0.74       886\n",
      "\n"
     ]
    }
   ],
   "source": [
    "# Split dataset into training and testing sets\n",
    "X_train,X_test,y_train,y_test=train_test_split(X,y,test_size=0.2,random_state=42)\n",
    "# Train Logistic Regression model\n",
    "model=LogisticRegression(max_iter=1000)\n",
    "model.fit(X_train,y_train)\n",
    "# Evaluate the model\n",
    "y_pred = model.predict(X_test)\n",
    "y_train_pred=model.predict(X_train)\n",
    "print(\"Accuracy:\", accuracy_score(y_test, y_pred))\n",
    "print(\"Accuracy:\", accuracy_score(y_train, y_train_pred))\n",
    "print(classification_report(y_test, y_pred))"
   ]
  },
  {
   "cell_type": "code",
   "execution_count": 21,
   "id": "d5920bfb-fed5-4a12-b030-b5695fbcfa48",
   "metadata": {},
   "outputs": [
    {
     "name": "stdout",
     "output_type": "stream",
     "text": [
      "Predicted Class: 0\n",
      "Class Probabilities: [9.99954039e-01 1.24511281e-05 1.16013735e-05 1.54524368e-05\n",
      " 6.45654152e-06]\n"
     ]
    }
   ],
   "source": [
    "# Example user input\n",
    "new_text = [input()]\n",
    " # Replace with your text\n",
    "\n",
    "# Preprocess the input (vectorize using the same TF-IDF vectorizer)\n",
    "new_text_vectorized = vectorizer.transform(new_text)\n",
    "\n",
    "# Predict the class\n",
    "predicted_class = model.predict(new_text_vectorized)\n",
    "\n",
    "# Get the probability of each class\n",
    "predicted_probabilities = model.predict_proba(new_text_vectorized)\n",
    "\n",
    "# Display the results\n",
    "print(\"Predicted Class:\", predicted_class[0])\n",
    "print(\"Class Probabilities:\", predicted_probabilities[0])\n",
    "dic={0:'Stress',1:'Depression',2:'Bipolar disorder',3:'Personality disorder',4:'Anxiety'}\n",
    "result=dic[predicted_class[0]]\n",
    "new_text=f'I am suffering from {result}'"
   ]
  },
  {
   "cell_type": "code",
   "execution_count": 22,
   "id": "bc5cd7ba-21db-4422-b68d-1295af938390",
   "metadata": {},
   "outputs": [],
   "source": [
    "dump=joblib.dump(model,'model.pkl')\n",
    "dump2=joblib.dump(vz,'vz.pkl')"
   ]
  },
  {
   "cell_type": "code",
   "execution_count": null,
   "id": "340d084d",
   "metadata": {},
   "outputs": [],
   "source": []
  }
 ],
 "metadata": {
  "kernelspec": {
   "display_name": "base",
   "language": "python",
   "name": "python3"
  },
  "language_info": {
   "codemirror_mode": {
    "name": "ipython",
    "version": 3
   },
   "file_extension": ".py",
   "mimetype": "text/x-python",
   "name": "python",
   "nbconvert_exporter": "python",
   "pygments_lexer": "ipython3",
   "version": "3.12.7"
  }
 },
 "nbformat": 4,
 "nbformat_minor": 5
}
